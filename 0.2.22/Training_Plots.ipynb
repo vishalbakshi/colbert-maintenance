{
  "nbformat": 4,
  "nbformat_minor": 0,
  "metadata": {
    "colab": {
      "provenance": []
    },
    "kernelspec": {
      "name": "python3",
      "display_name": "Python 3"
    },
    "language_info": {
      "name": "python"
    }
  },
  "cells": [
    {
      "cell_type": "code",
      "execution_count": null,
      "metadata": {
        "id": "8NE7SywMrjGT"
      },
      "outputs": [],
      "source": [
        "import pandas as pd\n",
        "import matplotlib.pyplot as plt\n",
        "import re\n",
        "\n",
        "data1, data2 = [], []\n",
        "\n",
        "for filename, data_list in [('pypi_train_4_log.txt', data1), ('testpypi_train_4_log.txt', data2)]:\n",
        "    with open(filename, 'r') as f:\n",
        "        lines = f.readlines()\n",
        "\n",
        "    for i in range(0, len(lines), 2):\n",
        "        if lines[i].startswith('#>>>'):\n",
        "            parts = lines[i].split('|')\n",
        "            pos_neg = parts[0].replace('#>>>', '').strip().split()\n",
        "            pos_score, neg_score = float(pos_neg[0]), float(pos_neg[1])\n",
        "            score_diff = float(parts[1].strip())\n",
        "\n",
        "            step_line = lines[i+1]\n",
        "            step_parts = step_line.split('] ')[1].split()\n",
        "            step, loss = int(step_parts[0]), float(step_parts[1])\n",
        "\n",
        "            data_list.append([step, loss, pos_score, neg_score, score_diff])\n",
        "\n",
        "df1 = pd.DataFrame(data1, columns=['step', 'loss', 'pos_score', 'neg_score', 'score_diff'])\n",
        "df2 = pd.DataFrame(data2, columns=['step', 'loss', 'pos_score', 'neg_score', 'score_diff'])\n",
        "\n",
        "fig, axes = plt.subplots(2, 2, figsize=(12, 8))\n",
        "\n",
        "for i, col in enumerate(['loss', 'pos_score', 'neg_score', 'score_diff']):\n",
        "    ax = axes[i//2, i%2]\n",
        "    ax.plot(df1['step'], df1[col], label='1.13.1')\n",
        "    ax.plot(df2['step'], df2[col], label='2.7.1')\n",
        "    ax.set_xlabel('step')\n",
        "    ax.set_ylabel(col)\n",
        "    ax.legend()\n",
        "\n",
        "plt.tight_layout()\n",
        "plt.show()"
      ]
    },
    {
      "cell_type": "code",
      "source": [],
      "metadata": {
        "id": "D2pe7n8j38_E"
      },
      "execution_count": null,
      "outputs": []
    }
  ]
}