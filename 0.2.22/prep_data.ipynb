{
 "cells": [
  {
   "cell_type": "markdown",
   "id": "c6125e9b",
   "metadata": {},
   "source": [
    "The purpose of this notebook is to convert `triples.train.small.tsv` into a JSON file with each line containing a `[qid, positive pid, negative pid]` triple. This notebook was created by running:\n",
    "\n",
    "```\n",
    "modal launch jupyter --volume colbert-maintenance\n",
    "```\n",
    "\n",
    "My `colbert-maintenance` Modal volume contains the files:\n",
    "\n",
    "- collection.tsv\n",
    "- queries.train.tsv\n",
    "- triples.train.small.tsv\n",
    "\n",
    "\n",
    "The corresponding URLs are:\n",
    "\n",
    "- https://msmarco.z22.web.core.windows.net/msmarcoranking/collection.tar.gz\n",
    "- https://msmarco.z22.web.core.windows.net/msmarcoranking/queries.tar.gz\n",
    "- https://msmarco.z22.web.core.windows.net/msmarcoranking/triples.train.small.tar.gz"
   ]
  },
  {
   "cell_type": "code",
   "execution_count": null,
   "id": "9f8e0065-1401-4587-bddc-1f82ae9099a9",
   "metadata": {},
   "outputs": [],
   "source": [
    "!pip install pandas"
   ]
  },
  {
   "cell_type": "code",
   "execution_count": 21,
   "id": "24c88874-333c-4171-ba65-a419bd6c122f",
   "metadata": {},
   "outputs": [],
   "source": [
    "import pandas as pd\n",
    "import json"
   ]
  },
  {
   "cell_type": "code",
   "execution_count": 3,
   "id": "577c941b-70d0-481a-a3c5-24ae746b89a6",
   "metadata": {},
   "outputs": [],
   "source": [
    "collection = pd.read_csv(\"collection.tsv\", sep='\\t', header=None)"
   ]
  },
  {
   "cell_type": "code",
   "execution_count": 4,
   "id": "32d9e648-81b1-4fa3-ae78-aaa9b21b1d38",
   "metadata": {},
   "outputs": [
    {
     "data": {
      "text/plain": [
       "(8841823, 2)"
      ]
     },
     "execution_count": 4,
     "metadata": {},
     "output_type": "execute_result"
    }
   ],
   "source": [
    "collection.shape"
   ]
  },
  {
   "cell_type": "code",
   "execution_count": 5,
   "id": "1d28099c-e341-4d17-a8d7-641997afbe51",
   "metadata": {},
   "outputs": [
    {
     "data": {
      "text/plain": [
       "(808731, 2)"
      ]
     },
     "execution_count": 5,
     "metadata": {},
     "output_type": "execute_result"
    }
   ],
   "source": [
    "queries = pd.read_csv(\"queries.train.tsv\", sep='\\t', header=None)\n",
    "queries.shape"
   ]
  },
  {
   "cell_type": "code",
   "execution_count": 6,
   "id": "f5f44623-0e21-41d6-8f72-881568cb4eac",
   "metadata": {},
   "outputs": [
    {
     "data": {
      "text/plain": [
       "(39780811, 3)"
      ]
     },
     "execution_count": 6,
     "metadata": {},
     "output_type": "execute_result"
    }
   ],
   "source": [
    "triples = pd.read_csv(\"triples.train.small.tsv\", sep='\\t', header=None)\n",
    "triples.shape"
   ]
  },
  {
   "cell_type": "code",
   "execution_count": 7,
   "id": "75fcf9a8-33c7-4d28-a466-8c91dfc300b8",
   "metadata": {},
   "outputs": [],
   "source": [
    "query_text_to_id = dict(zip(queries.iloc[:, 1], queries.iloc[:, 0]))\n",
    "passage_text_to_id = dict(zip(collection.iloc[:, 1], collection.iloc[:, 0]))"
   ]
  },
  {
   "cell_type": "code",
   "execution_count": 8,
   "id": "9c28fb16-15cb-47a8-9bbe-76fe0513ca41",
   "metadata": {},
   "outputs": [
    {
     "data": {
      "text/html": [
       "<div>\n",
       "<style scoped>\n",
       "    .dataframe tbody tr th:only-of-type {\n",
       "        vertical-align: middle;\n",
       "    }\n",
       "\n",
       "    .dataframe tbody tr th {\n",
       "        vertical-align: top;\n",
       "    }\n",
       "\n",
       "    .dataframe thead th {\n",
       "        text-align: right;\n",
       "    }\n",
       "</style>\n",
       "<table border=\"1\" class=\"dataframe\">\n",
       "  <thead>\n",
       "    <tr style=\"text-align: right;\">\n",
       "      <th></th>\n",
       "      <th>0</th>\n",
       "      <th>1</th>\n",
       "    </tr>\n",
       "  </thead>\n",
       "  <tbody>\n",
       "    <tr>\n",
       "      <th>0</th>\n",
       "      <td>121352</td>\n",
       "      <td>define extreme</td>\n",
       "    </tr>\n",
       "    <tr>\n",
       "      <th>1</th>\n",
       "      <td>634306</td>\n",
       "      <td>what does chattel mean on credit history</td>\n",
       "    </tr>\n",
       "    <tr>\n",
       "      <th>2</th>\n",
       "      <td>920825</td>\n",
       "      <td>what was the great leap forward brainly</td>\n",
       "    </tr>\n",
       "    <tr>\n",
       "      <th>3</th>\n",
       "      <td>510633</td>\n",
       "      <td>tattoo fixers how much does it cost</td>\n",
       "    </tr>\n",
       "    <tr>\n",
       "      <th>4</th>\n",
       "      <td>737889</td>\n",
       "      <td>what is decentralization process.</td>\n",
       "    </tr>\n",
       "  </tbody>\n",
       "</table>\n",
       "</div>"
      ],
      "text/plain": [
       "        0                                         1\n",
       "0  121352                            define extreme\n",
       "1  634306  what does chattel mean on credit history\n",
       "2  920825   what was the great leap forward brainly\n",
       "3  510633       tattoo fixers how much does it cost\n",
       "4  737889         what is decentralization process."
      ]
     },
     "execution_count": 8,
     "metadata": {},
     "output_type": "execute_result"
    }
   ],
   "source": [
    "queries.head()"
   ]
  },
  {
   "cell_type": "code",
   "execution_count": 12,
   "id": "94d66241-1a54-4099-ad20-ad12a9f08d40",
   "metadata": {},
   "outputs": [
    {
     "data": {
      "text/plain": [
       "121352"
      ]
     },
     "execution_count": 12,
     "metadata": {},
     "output_type": "execute_result"
    }
   ],
   "source": [
    "query_text_to_id[\"define extreme\"]"
   ]
  },
  {
   "cell_type": "code",
   "execution_count": 9,
   "id": "4096ce2b-a303-423d-b563-643112168da5",
   "metadata": {},
   "outputs": [
    {
     "data": {
      "text/html": [
       "<div>\n",
       "<style scoped>\n",
       "    .dataframe tbody tr th:only-of-type {\n",
       "        vertical-align: middle;\n",
       "    }\n",
       "\n",
       "    .dataframe tbody tr th {\n",
       "        vertical-align: top;\n",
       "    }\n",
       "\n",
       "    .dataframe thead th {\n",
       "        text-align: right;\n",
       "    }\n",
       "</style>\n",
       "<table border=\"1\" class=\"dataframe\">\n",
       "  <thead>\n",
       "    <tr style=\"text-align: right;\">\n",
       "      <th></th>\n",
       "      <th>0</th>\n",
       "      <th>1</th>\n",
       "    </tr>\n",
       "  </thead>\n",
       "  <tbody>\n",
       "    <tr>\n",
       "      <th>0</th>\n",
       "      <td>0</td>\n",
       "      <td>The presence of communication amid scientific ...</td>\n",
       "    </tr>\n",
       "    <tr>\n",
       "      <th>1</th>\n",
       "      <td>1</td>\n",
       "      <td>The Manhattan Project and its atomic bomb help...</td>\n",
       "    </tr>\n",
       "    <tr>\n",
       "      <th>2</th>\n",
       "      <td>2</td>\n",
       "      <td>Essay on The Manhattan Project - The Manhattan...</td>\n",
       "    </tr>\n",
       "    <tr>\n",
       "      <th>3</th>\n",
       "      <td>3</td>\n",
       "      <td>The Manhattan Project was the name for a proje...</td>\n",
       "    </tr>\n",
       "    <tr>\n",
       "      <th>4</th>\n",
       "      <td>4</td>\n",
       "      <td>versions of each volume as well as complementa...</td>\n",
       "    </tr>\n",
       "  </tbody>\n",
       "</table>\n",
       "</div>"
      ],
      "text/plain": [
       "   0                                                  1\n",
       "0  0  The presence of communication amid scientific ...\n",
       "1  1  The Manhattan Project and its atomic bomb help...\n",
       "2  2  Essay on The Manhattan Project - The Manhattan...\n",
       "3  3  The Manhattan Project was the name for a proje...\n",
       "4  4  versions of each volume as well as complementa..."
      ]
     },
     "execution_count": 9,
     "metadata": {},
     "output_type": "execute_result"
    }
   ],
   "source": [
    "collection.head()"
   ]
  },
  {
   "cell_type": "code",
   "execution_count": 14,
   "id": "72bb0581-dce1-48d2-8143-0d9e7c138ddd",
   "metadata": {},
   "outputs": [
    {
     "data": {
      "text/plain": [
       "0"
      ]
     },
     "execution_count": 14,
     "metadata": {},
     "output_type": "execute_result"
    }
   ],
   "source": [
    "passage_text_to_id[collection.iloc[0,1]]"
   ]
  },
  {
   "cell_type": "code",
   "execution_count": 15,
   "id": "3548a0ab-b633-439c-86c3-c090619cd45b",
   "metadata": {},
   "outputs": [],
   "source": [
    "triples['qid'] = triples.iloc[:, 0].map(query_text_to_id)\n",
    "triples['pos_pid'] = triples.iloc[:, 1].map(passage_text_to_id) \n",
    "triples['neg_pid'] = triples.iloc[:, 2].map(passage_text_to_id)"
   ]
  },
  {
   "cell_type": "code",
   "execution_count": 16,
   "id": "9b8b4584-05ec-4d5e-8faa-e7f0dec196f7",
   "metadata": {},
   "outputs": [
    {
     "data": {
      "text/html": [
       "<div>\n",
       "<style scoped>\n",
       "    .dataframe tbody tr th:only-of-type {\n",
       "        vertical-align: middle;\n",
       "    }\n",
       "\n",
       "    .dataframe tbody tr th {\n",
       "        vertical-align: top;\n",
       "    }\n",
       "\n",
       "    .dataframe thead th {\n",
       "        text-align: right;\n",
       "    }\n",
       "</style>\n",
       "<table border=\"1\" class=\"dataframe\">\n",
       "  <thead>\n",
       "    <tr style=\"text-align: right;\">\n",
       "      <th></th>\n",
       "      <th>0</th>\n",
       "      <th>1</th>\n",
       "      <th>2</th>\n",
       "      <th>qid</th>\n",
       "      <th>pos_pid</th>\n",
       "      <th>neg_pid</th>\n",
       "    </tr>\n",
       "  </thead>\n",
       "  <tbody>\n",
       "    <tr>\n",
       "      <th>0</th>\n",
       "      <td>is a little caffeine ok during pregnancy</td>\n",
       "      <td>We donât know a lot about the effects of caf...</td>\n",
       "      <td>It is generally safe for pregnant women to eat...</td>\n",
       "      <td>400296.0</td>\n",
       "      <td>1540783</td>\n",
       "      <td>3518497</td>\n",
       "    </tr>\n",
       "    <tr>\n",
       "      <th>1</th>\n",
       "      <td>what fruit is native to australia</td>\n",
       "      <td>Passiflora herbertiana. A rare passion fruit n...</td>\n",
       "      <td>The kola nut is the fruit of the kola tree, a ...</td>\n",
       "      <td>662731.0</td>\n",
       "      <td>193249</td>\n",
       "      <td>2975302</td>\n",
       "    </tr>\n",
       "    <tr>\n",
       "      <th>2</th>\n",
       "      <td>how large is the canadian military</td>\n",
       "      <td>The Canadian Armed Forces. 1  The first large-...</td>\n",
       "      <td>The Canadian Physician Health Institute (CPHI)...</td>\n",
       "      <td>238256.0</td>\n",
       "      <td>4435042</td>\n",
       "      <td>100008</td>\n",
       "    </tr>\n",
       "    <tr>\n",
       "      <th>3</th>\n",
       "      <td>types of fruit trees</td>\n",
       "      <td>Cherry. Cherry trees are found throughout the ...</td>\n",
       "      <td>The kola nut is the fruit of the kola tree, a ...</td>\n",
       "      <td>527862.0</td>\n",
       "      <td>1505983</td>\n",
       "      <td>2975302</td>\n",
       "    </tr>\n",
       "    <tr>\n",
       "      <th>4</th>\n",
       "      <td>how many calories a day are lost breastfeeding</td>\n",
       "      <td>Not only is breastfeeding better for the baby,...</td>\n",
       "      <td>However, you still need some niacin each day; ...</td>\n",
       "      <td>275813.0</td>\n",
       "      <td>5736515</td>\n",
       "      <td>1238670</td>\n",
       "    </tr>\n",
       "  </tbody>\n",
       "</table>\n",
       "</div>"
      ],
      "text/plain": [
       "                                                0  \\\n",
       "0        is a little caffeine ok during pregnancy   \n",
       "1               what fruit is native to australia   \n",
       "2              how large is the canadian military   \n",
       "3                            types of fruit trees   \n",
       "4  how many calories a day are lost breastfeeding   \n",
       "\n",
       "                                                   1  \\\n",
       "0  We donât know a lot about the effects of caf...   \n",
       "1  Passiflora herbertiana. A rare passion fruit n...   \n",
       "2  The Canadian Armed Forces. 1  The first large-...   \n",
       "3  Cherry. Cherry trees are found throughout the ...   \n",
       "4  Not only is breastfeeding better for the baby,...   \n",
       "\n",
       "                                                   2       qid  pos_pid  \\\n",
       "0  It is generally safe for pregnant women to eat...  400296.0  1540783   \n",
       "1  The kola nut is the fruit of the kola tree, a ...  662731.0   193249   \n",
       "2  The Canadian Physician Health Institute (CPHI)...  238256.0  4435042   \n",
       "3  The kola nut is the fruit of the kola tree, a ...  527862.0  1505983   \n",
       "4  However, you still need some niacin each day; ...  275813.0  5736515   \n",
       "\n",
       "   neg_pid  \n",
       "0  3518497  \n",
       "1  2975302  \n",
       "2   100008  \n",
       "3  2975302  \n",
       "4  1238670  "
      ]
     },
     "execution_count": 16,
     "metadata": {},
     "output_type": "execute_result"
    }
   ],
   "source": [
    "triples.head()"
   ]
  },
  {
   "cell_type": "code",
   "execution_count": 17,
   "id": "0ffa5835-1640-4a12-8ab9-a80da6787600",
   "metadata": {},
   "outputs": [
    {
     "data": {
      "text/plain": [
       "(39780811, 6)"
      ]
     },
     "execution_count": 17,
     "metadata": {},
     "output_type": "execute_result"
    }
   ],
   "source": [
    "triples.shape"
   ]
  },
  {
   "cell_type": "markdown",
   "id": "d4f27325",
   "metadata": {},
   "source": [
    "Some rows are lost when dropping NAs but that's fine for my use case as I'm only interested in getting training to \"just work\"."
   ]
  },
  {
   "cell_type": "code",
   "execution_count": 18,
   "id": "7b518e50-d39e-475b-a59b-5755cdaf8133",
   "metadata": {},
   "outputs": [
    {
     "data": {
      "text/plain": [
       "(39767620, 3)"
      ]
     },
     "execution_count": 18,
     "metadata": {},
     "output_type": "execute_result"
    }
   ],
   "source": [
    "triples_mapped = triples[['qid', 'pos_pid', 'neg_pid']].dropna()\n",
    "triples_mapped = triples_mapped.astype(int)\n",
    "triples_mapped.shape"
   ]
  },
  {
   "cell_type": "code",
   "execution_count": null,
   "id": "0de98109-97fc-45ec-87ab-29c6424d5b21",
   "metadata": {},
   "outputs": [],
   "source": [
    "with open('triples.train.small.json', 'w') as f:\n",
    "    for row in triples_mapped.values:\n",
    "        f.write(json.dumps(row.tolist()) + '\\n')"
   ]
  }
 ],
 "metadata": {
  "kernelspec": {
   "display_name": "Python 3 (ipykernel)",
   "language": "python",
   "name": "python3"
  },
  "language_info": {
   "codemirror_mode": {
    "name": "ipython",
    "version": 3
   },
   "file_extension": ".py",
   "mimetype": "text/x-python",
   "name": "python",
   "nbconvert_exporter": "python",
   "pygments_lexer": "ipython3",
   "version": "3.11.5"
  }
 },
 "nbformat": 4,
 "nbformat_minor": 5
}
